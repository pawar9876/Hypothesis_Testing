{
  "nbformat": 4,
  "nbformat_minor": 0,
  "metadata": {
    "colab": {
      "provenance": []
    },
    "kernelspec": {
      "name": "python3",
      "display_name": "Python 3"
    },
    "language_info": {
      "name": "python"
    }
  },
  "cells": [
    {
      "cell_type": "markdown",
      "source": [],
      "metadata": {
        "id": "L82P8YpyBu8j"
      }
    },
    {
      "cell_type": "markdown",
      "source": [
        "# HYPOTHESIS TESTING\n",
        "# Background:\n",
        "\n",
        "Bombay hospitality Ltd. operates a franchise model for producing exotic Norwegian dinners throughout New England. The operating cost for a franchise in a week (W) is given by the equation W = $1,000 + $5X, where X represents the number of units produced in a week. Recent feedback from restaurant owners suggests that this cost model may no longer be accurate, as their observed weekly operating costs are higher.\n",
        "\n",
        "Objective:\n",
        "To investigate the restaurant owners' claim about the increase in weekly operating costs using hypothesis testing.\n",
        "\n",
        "Data Provided:\n",
        "•\tThe theoretical weekly operating cost model: W = $1,000 + $5X\n",
        "•\tSample of 25 restaurants with a mean weekly cost of Rs. 3,050\n",
        "•\tNumber of units produced in a week (X) follows a normal distribution with a mean (μ) of 600 units and a standard deviation (σ) of 25 units\n",
        "Assignment Tasks:\n",
        "1. State the Hypotheses statement:\n",
        "2. Calculate the Test Statistic:\n",
        "Use the following formula to calculate the test statistic (t):\n",
        "where:\n",
        "•\tˉxˉ = sample mean weekly cost (Rs. 3,050)\n",
        "•\tμ = theoretical mean weekly cost according to the cost model (W = $1,000 + $5X for X = 600 units)\n",
        "•\tσ = 5*25 units\n",
        "•\tn = sample size (25 restaurants)\n",
        "3. Determine the Critical Value:\n",
        "Using the alpha level of 5% (α = 0.05), determine the critical value from the standard normal (Z) distribution table.\n",
        "4. Make a Decision:\n",
        "Compare the test statistic with the critical value to decide whether to reject the null hypothesis.\n",
        "5. Conclusion:\n",
        "Based on the decision in step 4, conclude whether there is strong evidence to support the restaurant owners' claim that the weekly operating costs are higher than the model suggests.\n",
        "\n",
        "Submission Guidelines:\n",
        "•\tPrepare python file detailing each step of your hypothesis testing process.\n",
        "•\tInclude calculations for the test statistic and the critical value.\n",
        "•\tProvide a clear conclusion based on your analysis.\n",
        "\n"
      ],
      "metadata": {
        "id": "sih362Du-z_-"
      }
    },
    {
      "cell_type": "code",
      "source": [
        "# import libraries for data analysing\n",
        "import pandas as pd\n",
        "import numpy as np\n",
        "import scipy.stats as stats"
      ],
      "metadata": {
        "id": "CUdVhkOB_IPE"
      },
      "execution_count": 2,
      "outputs": []
    },
    {
      "cell_type": "markdown",
      "source": [
        "ˉxˉ = sample mean weekly cost (Rs. 3,050) •\n",
        "\n",
        " μ = theoretical mean weekly cost according to the cost model (W = $1,000 + $$1,000 + $5X for X = 600 units) •\n",
        "\n",
        "  σ = 5*25 units •\n",
        "  \n",
        "   n = sample size (25 restaurants) hypothesis testing\n",
        "\n",
        "\n",
        "we are performing a one-tailed hypothesis test.\n",
        "\n",
        "1. State the Hypotheses Statement:\n",
        "\n",
        "Null Hypothesis (H0): The average weekly operating cost is less than or equal to the theoretical mean cost.\n",
        "Alternative Hypothesis (H1): The average weekly operating cost is greater than the theoretical mean cost.\n",
        "2. Calculate the Test Statistic:\n",
        "\n",
        "You are calculating a z-statistic since the population standard deviation is known.\n",
        "\n"
      ],
      "metadata": {
        "id": "-vS-t4wvUBJJ"
      }
    },
    {
      "cell_type": "code",
      "source": [
        " #ˉxˉ = sample mean weekly cost (Rs. 3,050) • μ = theoretical mean weekly cost according to the cost model (W = $1,000 + $$1,000 + $5X for X = 600 units) • σ = 5*25 units • n = sample size (25 restaurants) hypothesis testing\n",
        "#2. Calculate the Test Statistic:\n",
        "\n",
        "#You are calculating a z-statistic since the population standard deviation is known.\n",
        "\n",
        "\n",
        "import numpy as np # import libray for numeric calculation\n",
        "# got deta\n",
        "sample_mean = 3050\n",
        "theoretical_mean = 1000 + 5 * 600\n",
        "population_std = 5 * 25\n",
        "sample_size = 25\n",
        "\n",
        "z_value = (sample_mean - theoretical_mean) / (population_std / np.sqrt(sample_size))\n",
        "print(z_value)  # calculating z_value manually\n"
      ],
      "metadata": {
        "colab": {
          "base_uri": "https://localhost:8080/"
        },
        "id": "IH9KcXRZRcxx",
        "outputId": "bd0ee767-af2d-4ffd-e299-47f33d984ab9"
      },
      "execution_count": 3,
      "outputs": [
        {
          "output_type": "stream",
          "name": "stdout",
          "text": [
            "-38.0\n"
          ]
        }
      ]
    },
    {
      "cell_type": "code",
      "source": [
        "#3. Determine the Critical Value:\n",
        "\n",
        "#For a one-tailed test with alpha = 0.05  # you need to find the z-score that corresponds to the 95th percentile of the standard normal distribution. You can use a z-table or a Python function:\n",
        "\n",
        "\n",
        "alpha = 0.05\n",
        "critical_value = stats.norm.ppf(1 - alpha) # calculate critical_value\n",
        "print(critical_value)"
      ],
      "metadata": {
        "id": "dFq4Fs4SY-95",
        "colab": {
          "base_uri": "https://localhost:8080/"
        },
        "outputId": "20acf124-9462-423c-e5e7-bee2da6bd5bc"
      },
      "execution_count": 1,
      "outputs": [
        {
          "output_type": "stream",
          "name": "stdout",
          "text": [
            "1.6448536269514722\n"
          ]
        }
      ]
    },
    {
      "cell_type": "code",
      "source": [
        "#4. Make a Decision:\n",
        "\n",
        "#Compare the calculated z-value (test statistic) with the critical value.\n",
        "\n",
        "#If the z-value is greater than the critical value, reject the null hypothesis.\n",
        "#If the z-value is less than or equal to the critical value, fail to reject the null hypothesis.\n",
        "\n",
        "if z_value > critical_value:\n",
        "    print(\"Reject the null hypothesis\")\n",
        "else:\n",
        "    print(\"Fail to reject the null hypothesis\")\n"
      ],
      "metadata": {
        "colab": {
          "base_uri": "https://localhost:8080/"
        },
        "id": "pBGDFDmuZHVy",
        "outputId": "bd806e2f-b348-4243-9813-ac1e7c779581"
      },
      "execution_count": 4,
      "outputs": [
        {
          "output_type": "stream",
          "name": "stdout",
          "text": [
            "Fail to reject the null hypothesis\n"
          ]
        }
      ]
    },
    {
      "cell_type": "markdown",
      "source": [
        "so here p_value is grater than alpha value therefore we accept the  \n",
        "Null Hypothesis (H0): The average weekly operating cost is less than or equal to the theoretical mean cost\n",
        "\n",
        "we reject the alternative hypothesis."
      ],
      "metadata": {
        "id": "pXFZKdgEYFqm"
      }
    },
    {
      "cell_type": "markdown",
      "source": [
        "5. Conclusion:\n",
        "\n",
        "Based on the decision in step 4, state your conclusion in the context of the problem. For example, if you reject the null hypothesis, you would conclude that there is strong evidence to support the restaurant owners' claim that weekly operating costs are higher than the model suggests.\n",
        "\n",
        "but here we are failed to reject null hypothesis so our conclusion is\n",
        "there is no strong evidense to suppot the restorant owner claim that weekly\n",
        "operating costs are higher than the model suggest.\n",
        "\n",
        "\n"
      ],
      "metadata": {
        "id": "WXTwRl2WUaNn"
      }
    },
    {
      "cell_type": "code",
      "source": [
        "#####################################################################################################"
      ],
      "metadata": {
        "id": "PAb24_HLT_ef"
      },
      "execution_count": null,
      "outputs": []
    }
  ]
}